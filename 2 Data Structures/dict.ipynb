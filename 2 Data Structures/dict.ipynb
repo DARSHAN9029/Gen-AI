{
 "cells": [
  {
   "cell_type": "markdown",
   "id": "615eaf5e",
   "metadata": {},
   "source": [
    "## dictionaries are unordered collection of items. they store data in key value pairs. Keys must be unique and immutable (e.g:- strins,numbers or tuples)while values can be of any type"
   ]
  },
  {
   "cell_type": "code",
   "execution_count": 1,
   "id": "be5ea8e5",
   "metadata": {},
   "outputs": [
    {
     "data": {
      "text/plain": [
       "dict"
      ]
     },
     "execution_count": 1,
     "metadata": {},
     "output_type": "execute_result"
    }
   ],
   "source": [
    "## creating dictionaries\n",
    "\n",
    "empty_dict={}\n",
    "type(empty_dict)"
   ]
  },
  {
   "cell_type": "code",
   "execution_count": 4,
   "id": "99d097ef",
   "metadata": {},
   "outputs": [
    {
     "name": "stdout",
     "output_type": "stream",
     "text": [
      "{'name': 'darshan', 'age': 21, 'garde': 'A'}\n",
      "<class 'dict'>\n"
     ]
    }
   ],
   "source": [
    "student={\"name\":\"darshan\",\"age\":21,\"garde\":\"A\"}\n",
    "print(student)\n",
    "print(type(student))"
   ]
  },
  {
   "cell_type": "code",
   "execution_count": 6,
   "id": "1853fe83",
   "metadata": {},
   "outputs": [
    {
     "name": "stdout",
     "output_type": "stream",
     "text": [
      "{'name': 'A', 'age': 21}\n"
     ]
    }
   ],
   "source": [
    "##single key is always used\n",
    "\n",
    "student={\"name\":\"darshan\",\"age\":21,\"name\":\"A\"}\n",
    "print(student)\n"
   ]
  },
  {
   "cell_type": "code",
   "execution_count": 9,
   "id": "0f292f9f",
   "metadata": {},
   "outputs": [
    {
     "name": "stdout",
     "output_type": "stream",
     "text": [
      "{'name': 'darshan', 'age': 21, 'grade': 'A'}\n",
      "<class 'dict'>\n"
     ]
    }
   ],
   "source": [
    "#accessing the dict\n",
    "\n",
    "student={\"name\":\"darshan\",\"age\":21,\"grade\":\"A\"}\n",
    "print(student)\n",
    "print(type(student))"
   ]
  },
  {
   "cell_type": "code",
   "execution_count": 11,
   "id": "50a63a56",
   "metadata": {},
   "outputs": [
    {
     "name": "stdout",
     "output_type": "stream",
     "text": [
      "A\n"
     ]
    }
   ],
   "source": [
    "print(student['grade'])"
   ]
  },
  {
   "cell_type": "code",
   "execution_count": 12,
   "id": "67fce18d",
   "metadata": {},
   "outputs": [
    {
     "name": "stdout",
     "output_type": "stream",
     "text": [
      "21\n"
     ]
    }
   ],
   "source": [
    "print(student['age'])"
   ]
  },
  {
   "cell_type": "code",
   "execution_count": 13,
   "id": "355f269b",
   "metadata": {},
   "outputs": [
    {
     "name": "stdout",
     "output_type": "stream",
     "text": [
      "A\n",
      "21\n",
      "None\n"
     ]
    }
   ],
   "source": [
    "##accessig the values using default \"get\" method\n",
    "\n",
    "print(student.get('grade'))\n",
    "print(student.get('age'))\n",
    "print(student.get(\"last_name\"))"
   ]
  },
  {
   "cell_type": "code",
   "execution_count": 14,
   "id": "5260ebe3",
   "metadata": {},
   "outputs": [
    {
     "name": "stdout",
     "output_type": "stream",
     "text": [
      "A\n",
      "21\n",
      "Not availabe\n"
     ]
    }
   ],
   "source": [
    "print(student.get('grade'))\n",
    "print(student.get('age'))\n",
    "print(student.get(\"last_name\",\"Not availabe\"))"
   ]
  },
  {
   "cell_type": "markdown",
   "id": "2a2b0d45",
   "metadata": {},
   "source": [
    "## dictionaries are mutable but key needs to be unique"
   ]
  },
  {
   "cell_type": "code",
   "execution_count": 15,
   "id": "fe26d654",
   "metadata": {},
   "outputs": [
    {
     "name": "stdout",
     "output_type": "stream",
     "text": [
      "{'name': 'darshan', 'age': 21, 'grade': 'A'}\n"
     ]
    }
   ],
   "source": [
    "## Modifying dict elements\n",
    "print(student)"
   ]
  },
  {
   "cell_type": "code",
   "execution_count": null,
   "id": "ce793d8d",
   "metadata": {},
   "outputs": [
    {
     "name": "stdout",
     "output_type": "stream",
     "text": [
      "{'name': 'darshan', 'age': 22, 'grade': 'A', 'address': 'Mumbai ,India'}\n"
     ]
    }
   ],
   "source": [
    "student[\"age\"]=22           #updated the value\n",
    "student[\"address\"]=\"Mumbai ,India\"              #added the new key\n",
    "print(student)"
   ]
  },
  {
   "cell_type": "code",
   "execution_count": 21,
   "id": "db646625",
   "metadata": {},
   "outputs": [
    {
     "name": "stdout",
     "output_type": "stream",
     "text": [
      "{'name': 'darshan', 'age': 22, 'address': 'Mumbai ,India'}\n"
     ]
    }
   ],
   "source": [
    "##delete the grade key\n",
    "\n",
    "del student['grade']\n",
    "print(student)"
   ]
  },
  {
   "cell_type": "code",
   "execution_count": 25,
   "id": "1ed91c01",
   "metadata": {},
   "outputs": [
    {
     "name": "stdout",
     "output_type": "stream",
     "text": [
      "dict_keys(['name', 'age', 'address'])\n",
      "dict_values(['darshan', 22, 'Mumbai ,India'])\n",
      "dict_items([('name', 'darshan'), ('age', 22), ('address', 'Mumbai ,India')])\n"
     ]
    }
   ],
   "source": [
    "## Dictionary methods\n",
    "\n",
    "keys=student.keys()     #keys\n",
    "print(keys)\n",
    "values=student.values()         #values\n",
    "print(values)\n",
    "items=student.items()                   #key-value pairs\n",
    "print(items)"
   ]
  },
  {
   "cell_type": "code",
   "execution_count": 26,
   "id": "6e8c5961",
   "metadata": {},
   "outputs": [],
   "source": [
    "##  Shallow copy\n",
    "\n",
    "student_copy=student"
   ]
  },
  {
   "cell_type": "code",
   "execution_count": 27,
   "id": "d7ea5e43",
   "metadata": {},
   "outputs": [
    {
     "name": "stdout",
     "output_type": "stream",
     "text": [
      "{'name': 'darshan', 'age': 22, 'address': 'Mumbai ,India'}\n",
      "{'name': 'darshan', 'age': 22, 'address': 'Mumbai ,India'}\n"
     ]
    }
   ],
   "source": [
    "print(student_copy)\n",
    "print(student)"
   ]
  },
  {
   "cell_type": "code",
   "execution_count": 28,
   "id": "ee02739c",
   "metadata": {},
   "outputs": [
    {
     "name": "stdout",
     "output_type": "stream",
     "text": [
      "{'name': 'DARSHAN123', 'age': 22, 'address': 'Mumbai ,India'}\n",
      "{'name': 'DARSHAN123', 'age': 22, 'address': 'Mumbai ,India'}\n"
     ]
    }
   ],
   "source": [
    "student['name']=\"DARSHAN123\"\n",
    "print(student)\n",
    "print(student_copy)"
   ]
  },
  {
   "cell_type": "markdown",
   "id": "c6ac7c1c",
   "metadata": {},
   "source": [
    "#to avoid this we use shallow copy where the changes are not done on the new variable/dict"
   ]
  },
  {
   "cell_type": "code",
   "execution_count": 30,
   "id": "7280fd63",
   "metadata": {},
   "outputs": [
    {
     "name": "stdout",
     "output_type": "stream",
     "text": [
      "{'name': 'DARSHAN123', 'age': 22, 'address': 'Mumbai ,India'}\n",
      "{'name': 'DARSHAN123', 'age': 22, 'address': 'Mumbai ,India'}\n"
     ]
    }
   ],
   "source": [
    "student_copy1=student.copy()\n",
    "print(student_copy1)\n",
    "print(student)"
   ]
  },
  {
   "cell_type": "code",
   "execution_count": 31,
   "id": "dfd1abee",
   "metadata": {},
   "outputs": [
    {
     "name": "stdout",
     "output_type": "stream",
     "text": [
      "{'name': 'Darshan', 'age': 22, 'address': 'Mumbai ,India'}\n",
      "{'name': 'DARSHAN123', 'age': 22, 'address': 'Mumbai ,India'}\n"
     ]
    }
   ],
   "source": [
    "student[\"name\"]=\"Darshan\"\n",
    "print(student)\n",
    "print(student_copy1)"
   ]
  },
  {
   "cell_type": "markdown",
   "id": "bac337ea",
   "metadata": {},
   "source": [
    "both the values of name are diff "
   ]
  },
  {
   "cell_type": "code",
   "execution_count": 32,
   "id": "50780228",
   "metadata": {},
   "outputs": [
    {
     "name": "stdout",
     "output_type": "stream",
     "text": [
      "name\n",
      "age\n",
      "address\n"
     ]
    }
   ],
   "source": [
    "##iterating over dict\n",
    "#you can use loops to iterate over dict,keys,values,items\n",
    "\n",
    "for key in student.keys():\n",
    "    print(key)"
   ]
  },
  {
   "cell_type": "code",
   "execution_count": 34,
   "id": "a3c86281",
   "metadata": {},
   "outputs": [
    {
     "name": "stdout",
     "output_type": "stream",
     "text": [
      "Darshan\n",
      "22\n",
      "Mumbai ,India\n"
     ]
    }
   ],
   "source": [
    "## iterate over values\n",
    "for value in student.values():\n",
    "    print(value)"
   ]
  },
  {
   "cell_type": "code",
   "execution_count": 35,
   "id": "ef8c78e5",
   "metadata": {},
   "outputs": [
    {
     "name": "stdout",
     "output_type": "stream",
     "text": [
      "name:Darshan\n",
      "age:22\n",
      "address:Mumbai ,India\n"
     ]
    }
   ],
   "source": [
    "#iterate over key-value pairs\n",
    "\n",
    "for key,value in student.items():\n",
    "    print(f\"{key}:{value}\")"
   ]
  },
  {
   "cell_type": "code",
   "execution_count": 38,
   "id": "b2fc8427",
   "metadata": {},
   "outputs": [
    {
     "name": "stdout",
     "output_type": "stream",
     "text": [
      "{'student1': {'name': 'darshan', 'age': 21}, 'student2': {'name': 'kavish', 'age': 18}}\n"
     ]
    }
   ],
   "source": [
    "## nested dictionaries\n",
    "students={\n",
    "    \"student1\":{\"name\":\"darshan\",\"age\":21},\n",
    "    \"student2\":{\"name\":\"kavish\",\"age\":18}\n",
    "}\n",
    "\n",
    "print(students)"
   ]
  },
  {
   "cell_type": "code",
   "execution_count": 40,
   "id": "17a49638",
   "metadata": {},
   "outputs": [
    {
     "name": "stdout",
     "output_type": "stream",
     "text": [
      "kavish\n",
      "18\n"
     ]
    }
   ],
   "source": [
    "##accessing the nested dict\n",
    "\n",
    "print(students[\"student2\"][\"name\"])\n",
    "print(students[\"student2\"][\"age\"])"
   ]
  },
  {
   "cell_type": "code",
   "execution_count": 41,
   "id": "2cd20e8a",
   "metadata": {},
   "outputs": [
    {
     "name": "stdout",
     "output_type": "stream",
     "text": [
      "student1:{'name': 'darshan', 'age': 21}\n",
      "name:darshan\n",
      "age:21\n",
      "student2:{'name': 'kavish', 'age': 18}\n",
      "name:kavish\n",
      "age:18\n"
     ]
    }
   ],
   "source": [
    "## iterating over the nested dict\n",
    "\n",
    "for student_id ,student_info in students.items():\n",
    "    print(f\"{student_id}:{student_info}\")\n",
    "    for key,value in student_info.items():\n",
    "        print(f\"{key}:{value}\")"
   ]
  },
  {
   "cell_type": "code",
   "execution_count": 42,
   "id": "07cdd779",
   "metadata": {},
   "outputs": [],
   "source": [
    "##dictionary comprehension\n",
    "\n",
    "square={x:x**2 for x in range(5)}"
   ]
  },
  {
   "cell_type": "code",
   "execution_count": 43,
   "id": "25cc2763",
   "metadata": {},
   "outputs": [
    {
     "name": "stdout",
     "output_type": "stream",
     "text": [
      "{0: 0, 1: 1, 2: 4, 3: 9, 4: 16}\n"
     ]
    }
   ],
   "source": [
    "print(square)"
   ]
  },
  {
   "cell_type": "code",
   "execution_count": 45,
   "id": "b0f0bfb3",
   "metadata": {},
   "outputs": [
    {
     "name": "stdout",
     "output_type": "stream",
     "text": [
      "{0: 0, 2: 4, 4: 16, 6: 36, 8: 64}\n"
     ]
    }
   ],
   "source": [
    "##conditional dictionary comprehension\n",
    "\n",
    "even={x:x**2 for x in range(10) if x%2==0}\n",
    "print(even)"
   ]
  },
  {
   "cell_type": "code",
   "execution_count": 48,
   "id": "3911b9f7",
   "metadata": {},
   "outputs": [
    {
     "name": "stdout",
     "output_type": "stream",
     "text": [
      "{1: 4, 2: 3, 3: 3, 4: 2}\n"
     ]
    }
   ],
   "source": [
    "## practical examples\n",
    "\n",
    "#use a dict to count the freq of elements in list\n",
    "\n",
    "numbers=[1,1,1,1,2,2,2,3,3,3,4,4]\n",
    "freq={}\n",
    "\n",
    "for number in numbers:\n",
    "    if number in freq:\n",
    "        freq[number]+=1\n",
    "    else:\n",
    "        freq[number]=1\n",
    "print(freq)"
   ]
  },
  {
   "cell_type": "code",
   "execution_count": 50,
   "id": "f46d9d5d",
   "metadata": {},
   "outputs": [
    {
     "name": "stdout",
     "output_type": "stream",
     "text": [
      "{'a': 1, 'b': 3, 'c': 4}\n"
     ]
    }
   ],
   "source": [
    "##merge 2 dict in one\n",
    "\n",
    "dict1={\"a\":1,\"b\":2}\n",
    "dict2={\"b\":3,\"c\":4}\n",
    "\n",
    "merge={**dict1,**dict2}\n",
    "print(merge)"
   ]
  },
  {
   "cell_type": "code",
   "execution_count": null,
   "id": "bcf6bcfb",
   "metadata": {},
   "outputs": [],
   "source": []
  }
 ],
 "metadata": {
  "kernelspec": {
   "display_name": "Python 3",
   "language": "python",
   "name": "python3"
  },
  "language_info": {
   "codemirror_mode": {
    "name": "ipython",
    "version": 3
   },
   "file_extension": ".py",
   "mimetype": "text/x-python",
   "name": "python",
   "nbconvert_exporter": "python",
   "pygments_lexer": "ipython3",
   "version": "3.12.0"
  }
 },
 "nbformat": 4,
 "nbformat_minor": 5
}
