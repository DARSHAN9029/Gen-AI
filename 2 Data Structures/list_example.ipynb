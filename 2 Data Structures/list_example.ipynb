{
 "cells": [
  {
   "cell_type": "markdown",
   "id": "6bc370da",
   "metadata": {},
   "source": [
    "# TO DO LIST"
   ]
  },
  {
   "cell_type": "code",
   "execution_count": 2,
   "id": "60bf5fb1",
   "metadata": {},
   "outputs": [
    {
     "name": "stdout",
     "output_type": "stream",
     "text": [
      "dont forget to pay utility bills\n",
      "TO DO LIST remaining\n",
      "Buy groceries\n",
      "Pay bills\n",
      "Schedule the meeting\n",
      "go to gym\n"
     ]
    }
   ],
   "source": [
    "to_do_list=[\"Buy groceries\",\"Clean the house\" , \"Pay bills\"]\n",
    "\n",
    "##adding to task\n",
    "\n",
    "to_do_list.append(\"Schedule the meeting\")\n",
    "to_do_list.append(\"go to gym\")\n",
    "\n",
    "## removing the task\n",
    "to_do_list.remove(\"Clean the house\")\n",
    "\n",
    "if \"Pay bills\" in to_do_list:\n",
    "    print(\"dont forget to pay utility bills\")\n",
    "\n",
    "print(\"TO DO LIST remaining\")\n",
    "for task in to_do_list:\n",
    "    print(f\"{task}\")"
   ]
  },
  {
   "cell_type": "markdown",
   "id": "540a661a",
   "metadata": {},
   "source": [
    "## organizing student grades"
   ]
  },
  {
   "cell_type": "code",
   "execution_count": 3,
   "id": "804ff273",
   "metadata": {},
   "outputs": [
    {
     "name": "stdout",
     "output_type": "stream",
     "text": [
      "The average grade is : 85.62\n",
      "Highest marks : 90.12\n",
      "Lowest marks : 78.00\n"
     ]
    }
   ],
   "source": [
    "grades=[90,78,89,81]\n",
    "\n",
    "#adding a new grade\n",
    "grades.append(90.12)\n",
    "\n",
    "#cal average grade\n",
    "avg_grade=sum(grades)/len(grades)\n",
    "print(f\"The average grade is : {avg_grade:.2f}\")\n",
    "\n",
    "#finding the highest / Lowest\n",
    "highest=max(grades)\n",
    "lowest=min(grades)\n",
    "\n",
    "print(f\"Highest marks : {highest:.2f}\")\n",
    "print(f\"Lowest marks : {lowest:.2f}\")"
   ]
  },
  {
   "cell_type": "markdown",
   "id": "debeb5f0",
   "metadata": {},
   "source": [
    "## managing an inventory"
   ]
  },
  {
   "cell_type": "code",
   "execution_count": 9,
   "id": "9381f158",
   "metadata": {},
   "outputs": [
    {
     "name": "stdout",
     "output_type": "stream",
     "text": [
      "orange available in stock\n",
      "INVENTORY LIST:\n",
      "- apple\n",
      "- orange\n",
      "- mango\n",
      "- cherry\n",
      "- grapes\n"
     ]
    }
   ],
   "source": [
    "inventory=[\"apple\",\"banana\",\"orange\",\"mango\",\"cherry\"]\n",
    "\n",
    "#adding an item\n",
    "inventory.append(\"grapes\")\n",
    "\n",
    "#removing an item\n",
    "inventory.remove(\"banana\")\n",
    "\n",
    "#checking if an item is in the stock\n",
    "item=\"orange\"\n",
    "if item in inventory:\n",
    "    print(f\"{item} available in stock\")\n",
    "else:\n",
    "    print(f\"{item} is out of stock\")\n",
    "\n",
    "#print the inventory list\n",
    "print(\"INVENTORY LIST:\")\n",
    "for item in inventory:\n",
    "    print(f\"- {item}\")"
   ]
  },
  {
   "cell_type": "code",
   "execution_count": null,
   "id": "194ff4a0",
   "metadata": {},
   "outputs": [],
   "source": []
  }
 ],
 "metadata": {
  "kernelspec": {
   "display_name": "Python 3",
   "language": "python",
   "name": "python3"
  },
  "language_info": {
   "codemirror_mode": {
    "name": "ipython",
    "version": 3
   },
   "file_extension": ".py",
   "mimetype": "text/x-python",
   "name": "python",
   "nbconvert_exporter": "python",
   "pygments_lexer": "ipython3",
   "version": "3.12.0"
  }
 },
 "nbformat": 4,
 "nbformat_minor": 5
}
