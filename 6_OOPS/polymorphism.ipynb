{
 "cells": [
  {
   "cell_type": "markdown",
   "id": "82df364e",
   "metadata": {},
   "source": [
    "# Polymorphism is a core concept in OOP that allows objects of different class to be treated as a object of a common superclass. It provides a way to perform a single action in different forms. Polymorphism is typically achieved through method overriding and interfaces"
   ]
  },
  {
   "cell_type": "markdown",
   "id": "9bb88897",
   "metadata": {},
   "source": [
    "## Method overriding\n",
    "Method overriding allows a child class to provide a specific implementation of a method that is already defined in its parent class\n",
    "\n"
   ]
  },
  {
   "cell_type": "markdown",
   "id": "864f6300",
   "metadata": {},
   "source": []
  },
  {
   "cell_type": "code",
   "execution_count": 6,
   "id": "d86dfa34",
   "metadata": {},
   "outputs": [
    {
     "name": "stdout",
     "output_type": "stream",
     "text": [
      "Wooff woof !!\n",
      "meow meow !!\n",
      "meow meow !!\n"
     ]
    }
   ],
   "source": [
    "##method overriding\n",
    "\n",
    "#base class\n",
    "\n",
    "class Animal:\n",
    "    def speak(self):\n",
    "        return f\"Sound of the animal\"\n",
    "    \n",
    "#Derived class 1\n",
    "class Dog(Animal):\n",
    "    def speak(self):\n",
    "        return \"Wooff woof !!\"\n",
    "    \n",
    "#Derived class 2\n",
    "class Cat(Animal):\n",
    "    def speak(self):\n",
    "        return \"meow meow !!\"\n",
    "\n",
    "#Function that demonstrates Polymorphism\n",
    "def animal_speak(animal):\n",
    "    print(animal.speak())\n",
    "\n",
    "\n",
    "##Create an object\n",
    "dog=Dog()\n",
    "cat=Cat()\n",
    "print(dog.speak())\n",
    "print(cat.speak())\n",
    "\n",
    "animal_speak(cat)\n",
    "\n",
    "\n",
    "##The same method is getting over-written usng its derived class"
   ]
  },
  {
   "cell_type": "code",
   "execution_count": 8,
   "id": "e37d20d6",
   "metadata": {},
   "outputs": [
    {
     "name": "stdout",
     "output_type": "stream",
     "text": [
      "The area is 20\n",
      "The area is 50.24\n"
     ]
    }
   ],
   "source": [
    "##Polymorphism using function and methods\n",
    "\n",
    "#base class\n",
    "class Shape:\n",
    "    def area(self):\n",
    "        return \"The area of the shape\"\n",
    "\n",
    "#derived class 1\n",
    "class Rectangle(Shape):\n",
    "    def __init__(self,w,h):\n",
    "        self.w=w\n",
    "        self.h=h\n",
    "    \n",
    "    def area(self):\n",
    "        return self.w * self.h\n",
    "\n",
    "#Derived class 2\n",
    "class Circle(Shape):\n",
    "    def __init__(self,r):\n",
    "        self.r=r\n",
    "\n",
    "    def area(self):\n",
    "        return 3.14*self.r*self.r\n",
    "\n",
    "\n",
    "def print_area(shape):\n",
    "    print(f\"The area is {shape.area()}\")\n",
    "\n",
    "\n",
    "#object\n",
    "rectangle=Rectangle(4,5)\n",
    "circle=Circle(4)\n",
    "\n",
    "print_area(rectangle)\n",
    "print_area(circle)"
   ]
  },
  {
   "cell_type": "markdown",
   "id": "f2a17ec7",
   "metadata": {},
   "source": [
    "# Polymorphism with abstract base class\n",
    "\n",
    "Abstract base class are used to define common method for a group of related objects.They can enforce that dervied classes implement particular methods , promoting consistency across different implementations."
   ]
  },
  {
   "cell_type": "code",
   "execution_count": 18,
   "id": "62c3d962",
   "metadata": {},
   "outputs": [
    {
     "name": "stdout",
     "output_type": "stream",
     "text": [
      "Car engine started\n"
     ]
    }
   ],
   "source": [
    "from abc import ABC,abstractmethod\n",
    "\n",
    "class Vehicle(ABC):\n",
    "    @abstractmethod\n",
    "    def start_engine(self):\n",
    "        pass\n",
    "\n",
    "#derived class 1\n",
    "class Car(Vehicle):\n",
    "    def start_engine(self):\n",
    "        return \"Car engine started\"\n",
    "\n",
    "#derivd class 2\n",
    "class Motorcycle(Vehicle):\n",
    "    def start_engine(self):\n",
    "        return \"Motorcycle engine stared\"\n",
    "\n",
    "\n",
    "#Polymorphim function\n",
    "def start_vehicle(vehicle):\n",
    "    print(vehicle.start_engine())\n",
    "\n",
    "#object\n",
    "car=Car()\n",
    "motorcycle=Motorcycle()\n",
    "\n",
    "start_vehicle(car)\n"
   ]
  },
  {
   "cell_type": "code",
   "execution_count": null,
   "id": "dfb399b2",
   "metadata": {},
   "outputs": [],
   "source": []
  }
 ],
 "metadata": {
  "kernelspec": {
   "display_name": "Python 3",
   "language": "python",
   "name": "python3"
  },
  "language_info": {
   "codemirror_mode": {
    "name": "ipython",
    "version": 3
   },
   "file_extension": ".py",
   "mimetype": "text/x-python",
   "name": "python",
   "nbconvert_exporter": "python",
   "pygments_lexer": "ipython3",
   "version": "3.12.0"
  }
 },
 "nbformat": 4,
 "nbformat_minor": 5
}
