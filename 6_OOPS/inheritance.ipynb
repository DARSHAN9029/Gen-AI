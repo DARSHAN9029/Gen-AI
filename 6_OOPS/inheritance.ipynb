{
 "cells": [
  {
   "cell_type": "markdown",
   "id": "aa11c665",
   "metadata": {},
   "source": [
    "# Inheritance is a fundamental concept in OOP that allows a class to inherit attributes and methods from another class ."
   ]
  },
  {
   "cell_type": "markdown",
   "id": "2505fc7d",
   "metadata": {},
   "source": [
    "# Derived from the real world scenario"
   ]
  },
  {
   "cell_type": "code",
   "execution_count": 10,
   "id": "f26cd3fb",
   "metadata": {},
   "outputs": [],
   "source": [
    "##DEFINE A Parent class\n",
    "\n",
    "#Parent class\n",
    "\n",
    "class Car:\n",
    "    def __init__(self,windows,doors,engine_type):\n",
    "        self.windows=windows\n",
    "        self.doors=doors\n",
    "        self.engine_type=engine_type\n",
    "\n",
    "    def drive(self):\n",
    "        print(f\"The person will drive the {self.engine_type} car\")\n"
   ]
  },
  {
   "cell_type": "code",
   "execution_count": 11,
   "id": "f3ff3d14",
   "metadata": {},
   "outputs": [
    {
     "name": "stdout",
     "output_type": "stream",
     "text": [
      "The person will drive the petrol car\n",
      "None\n"
     ]
    }
   ],
   "source": [
    "car1=Car(4,5,\"petrol\")\n",
    "print(car1.drive())"
   ]
  },
  {
   "cell_type": "code",
   "execution_count": 15,
   "id": "06be3fa0",
   "metadata": {},
   "outputs": [],
   "source": [
    "##child class( TESLA ) inheriting the parent class(Car)\n",
    "\n",
    "class Tesla(Car):\n",
    "    def __init__(self,windows,doors,engine_type,is_self_driving):\n",
    "        super().__init__(windows,doors,engine_type)         ##super is calling __init__ method from parent class\n",
    "        self.is_self_driving=is_self_driving                ##initializing the ne attribute\n",
    "\n",
    "    def self_driving(self):\n",
    "        print(f\"Tesla supports self driving : {self.is_self_driving}\")"
   ]
  },
  {
   "cell_type": "code",
   "execution_count": 16,
   "id": "8503680a",
   "metadata": {},
   "outputs": [
    {
     "name": "stdout",
     "output_type": "stream",
     "text": [
      "Tesla supports self driving : True\n",
      "The person will drive the electric car\n"
     ]
    }
   ],
   "source": [
    "tesla1=Tesla(4,5,\"electric\",True)\n",
    "tesla1.self_driving()\n",
    "tesla1.drive()"
   ]
  },
  {
   "cell_type": "code",
   "execution_count": 25,
   "id": "a53c9134",
   "metadata": {},
   "outputs": [
    {
     "name": "stdout",
     "output_type": "stream",
     "text": [
      "Buggy says woofff!!\n",
      "Owner of the dog Buggy is Darshan\n"
     ]
    }
   ],
   "source": [
    "# Multiple Inheritance\n",
    "\n",
    "class Animal:\n",
    "    def __init__(self,name):\n",
    "        self.name=name\n",
    "    \n",
    "    def speak(self):\n",
    "        print(f\"Subclass must implement this method\")\n",
    "\n",
    "##Class 2\n",
    "class Pet:\n",
    "    def __init__(self,owner):\n",
    "        self.owner=owner\n",
    "\n",
    "##derived class\n",
    "class Dog(Animal,Pet):\n",
    "    def __init__(self,name,owner):\n",
    "        Animal.__init__(self,name)              ##instead of using \"super. \" we use \" .__init__ \" to call because of multiple classes\n",
    "        Pet.__init__(self,owner)\n",
    "\n",
    "    def speak(self):\n",
    "        return f\"{self.name} says woofff!!\"\n",
    "\n",
    "\n",
    "\n",
    "\n",
    "##Create an object\n",
    "dog1=Dog(\"Buggy\",\"Darshan\")\n",
    "print(dog1.speak())\n",
    "print(f\"Owner of the dog {dog1.name} is {dog1.owner}\")"
   ]
  },
  {
   "cell_type": "code",
   "execution_count": null,
   "id": "214614b5",
   "metadata": {},
   "outputs": [],
   "source": []
  },
  {
   "cell_type": "code",
   "execution_count": null,
   "id": "47f44dee",
   "metadata": {},
   "outputs": [],
   "source": []
  }
 ],
 "metadata": {
  "kernelspec": {
   "display_name": "Python 3",
   "language": "python",
   "name": "python3"
  },
  "language_info": {
   "codemirror_mode": {
    "name": "ipython",
    "version": 3
   },
   "file_extension": ".py",
   "mimetype": "text/x-python",
   "name": "python",
   "nbconvert_exporter": "python",
   "pygments_lexer": "ipython3",
   "version": "3.12.0"
  }
 },
 "nbformat": 4,
 "nbformat_minor": 5
}
