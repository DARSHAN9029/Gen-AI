{
 "cells": [
  {
   "cell_type": "markdown",
   "id": "3b9e9f6b",
   "metadata": {},
   "source": [
    "# Magic methods\n",
    "\n",
    "They are predefined methods in python that you can override to change the behavior of your objects. some common magice methods are:"
   ]
  },
  {
   "cell_type": "code",
   "execution_count": 1,
   "id": "aa363728",
   "metadata": {},
   "outputs": [
    {
     "data": {
      "text/plain": [
       "'\\n__init__\\n__str__\\n__repr__\\n__getitem__\\n'"
      ]
     },
     "execution_count": 1,
     "metadata": {},
     "output_type": "execute_result"
    }
   ],
   "source": [
    "'''\n",
    "__init__\n",
    "__str__\n",
    "__repr__\n",
    "__getitem__\n",
    "'''"
   ]
  },
  {
   "cell_type": "code",
   "execution_count": 2,
   "id": "78af4f23",
   "metadata": {},
   "outputs": [
    {
     "data": {
      "text/plain": [
       "['__class__',\n",
       " '__delattr__',\n",
       " '__dict__',\n",
       " '__dir__',\n",
       " '__doc__',\n",
       " '__eq__',\n",
       " '__format__',\n",
       " '__ge__',\n",
       " '__getattribute__',\n",
       " '__getstate__',\n",
       " '__gt__',\n",
       " '__hash__',\n",
       " '__init__',\n",
       " '__init_subclass__',\n",
       " '__le__',\n",
       " '__lt__',\n",
       " '__module__',\n",
       " '__ne__',\n",
       " '__new__',\n",
       " '__reduce__',\n",
       " '__reduce_ex__',\n",
       " '__repr__',\n",
       " '__setattr__',\n",
       " '__sizeof__',\n",
       " '__str__',\n",
       " '__subclasshook__',\n",
       " '__weakref__']"
      ]
     },
     "execution_count": 2,
     "metadata": {},
     "output_type": "execute_result"
    }
   ],
   "source": [
    "class Person:\n",
    "    pass\n",
    "\n",
    "person=Person()\n",
    "dir(person)"
   ]
  },
  {
   "cell_type": "code",
   "execution_count": 3,
   "id": "334275f3",
   "metadata": {},
   "outputs": [],
   "source": [
    "# the above are magic methods"
   ]
  },
  {
   "cell_type": "code",
   "execution_count": 5,
   "id": "f8e233c6",
   "metadata": {},
   "outputs": [
    {
     "name": "stdout",
     "output_type": "stream",
     "text": [
      "<__main__.Person object at 0x000001FC7C653D70>\n"
     ]
    }
   ],
   "source": [
    "## basic magic methods\n",
    "\n",
    "class Person:\n",
    "    def __init__(self,name,age):\n",
    "        self.name=name\n",
    "        self.age=age\n",
    "\n",
    "person=Person(\"Darshan\",23)\n",
    "print(person)"
   ]
  },
  {
   "cell_type": "code",
   "execution_count": 6,
   "id": "80faf27c",
   "metadata": {},
   "outputs": [
    {
     "name": "stdout",
     "output_type": "stream",
     "text": [
      "Darshan is 23 years old\n"
     ]
    }
   ],
   "source": [
    "## basic magic methods\n",
    "\n",
    "class Person:\n",
    "    def __init__(self,name,age):\n",
    "        self.name=name\n",
    "        self.age=age\n",
    "\n",
    "    def __str__(self):\n",
    "        return f\"{self.name} is {self.age} years old\"\n",
    "person=Person(\"Darshan\",23)\n",
    "print(person)"
   ]
  },
  {
   "cell_type": "markdown",
   "id": "2c8ff171",
   "metadata": {},
   "source": [
    "# with the help of \" __str__ \" we can able to fetch and print the string vlaue . as __str__ retirns the sting representation of an object"
   ]
  },
  {
   "cell_type": "code",
   "execution_count": null,
   "id": "080210ea",
   "metadata": {},
   "outputs": [
    {
     "name": "stdout",
     "output_type": "stream",
     "text": [
      "Darshan is 23 years old\n",
      "Person(name=Darshan , age=23)\n"
     ]
    }
   ],
   "source": [
    "## basic magic methods\n",
    "\n",
    "class Person:\n",
    "    def __init__(self,name,age):\n",
    "        self.name=name\n",
    "        self.age=age\n",
    "\n",
    "    def __str__(self):\n",
    "        return f\"{self.name} is {self.age} years old\"\n",
    "\n",
    "    def __repr__(self):                                             # rerpresents the string \n",
    "        return f\"Person(name={self.name} , age={self.age})\"\n",
    "\n",
    "person=Person(\"Darshan\",23)\n",
    "print(person)\n",
    "print(repr(person))"
   ]
  },
  {
   "cell_type": "code",
   "execution_count": null,
   "id": "1b84aac8",
   "metadata": {},
   "outputs": [],
   "source": []
  }
 ],
 "metadata": {
  "kernelspec": {
   "display_name": "Python 3",
   "language": "python",
   "name": "python3"
  },
  "language_info": {
   "codemirror_mode": {
    "name": "ipython",
    "version": 3
   },
   "file_extension": ".py",
   "mimetype": "text/x-python",
   "name": "python",
   "nbconvert_exporter": "python",
   "pygments_lexer": "ipython3",
   "version": "3.12.0"
  }
 },
 "nbformat": 4,
 "nbformat_minor": 5
}
