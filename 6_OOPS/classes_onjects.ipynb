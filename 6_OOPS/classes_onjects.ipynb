{
 "cells": [
  {
   "cell_type": "markdown",
   "id": "c9a7f05f",
   "metadata": {},
   "source": [
    "# Classes and Object\n",
    "\n",
    "OOPS is a programming paradigm that uses \"objects\" to design applcations and computer programs. OOP allows or modelling real world scenarios using classes and object. This lesson covers the basics of creating classes and objects , inclusig instance variable and methods."
   ]
  },
  {
   "cell_type": "markdown",
   "id": "b8575e3c",
   "metadata": {},
   "source": [
    "# A class is a blue print / real world entity for creatung objects. Attributes , methods"
   ]
  },
  {
   "cell_type": "code",
   "execution_count": 1,
   "id": "bcddedc2",
   "metadata": {},
   "outputs": [
    {
     "name": "stdout",
     "output_type": "stream",
     "text": [
      "<class '__main__.Car'>\n"
     ]
    }
   ],
   "source": [
    "class Car:\n",
    "    pass\n",
    "\n",
    "audi=Car()\n",
    "bmw=Car()\n",
    "\n",
    "\n",
    "print(type(audi))"
   ]
  },
  {
   "cell_type": "code",
   "execution_count": 3,
   "id": "68bfd426",
   "metadata": {},
   "outputs": [
    {
     "name": "stdout",
     "output_type": "stream",
     "text": [
      "<__main__.Car object at 0x000001752A0F6D80>\n",
      "<__main__.Car object at 0x000001752B3D7230>\n"
     ]
    }
   ],
   "source": [
    "\n",
    "print(audi)\n",
    "print(bmw)"
   ]
  },
  {
   "cell_type": "code",
   "execution_count": 5,
   "id": "fb0835b4",
   "metadata": {},
   "outputs": [
    {
     "name": "stdout",
     "output_type": "stream",
     "text": [
      "4\n"
     ]
    }
   ],
   "source": [
    "audi.windows=4      #windows is an attribute here\n",
    "print(audi.windows)"
   ]
  },
  {
   "cell_type": "code",
   "execution_count": null,
   "id": "a9a03888",
   "metadata": {},
   "outputs": [
    {
     "name": "stdout",
     "output_type": "stream",
     "text": [
      "<__main__.Dog object at 0x000001752B52DD60>\n",
      "('Tom',)\n",
      "3\n"
     ]
    }
   ],
   "source": [
    "#instance variabl\n",
    "\n",
    "class Dog:\n",
    "    #constructor\n",
    "    def __init__(self,name,age):\n",
    "        self.name=name,\n",
    "        self.age=age\n",
    "\n",
    "##create an object\n",
    "dog1=Dog(\"Tom\",3)\n",
    "print(dog1)\n",
    "print(dog1.name)\n",
    "print(dog1.age)"
   ]
  },
  {
   "cell_type": "code",
   "execution_count": 17,
   "id": "c3f3b43c",
   "metadata": {},
   "outputs": [
    {
     "name": "stdout",
     "output_type": "stream",
     "text": [
      "<__main__.Dog object at 0x000001752B3F8710>\n",
      "('Lucy',)\n",
      "4\n"
     ]
    }
   ],
   "source": [
    "dog2=Dog(\"Lucy\",4)\n",
    "\n",
    "print(dog2)\n",
    "print(dog2.name)\n",
    "print(dog2.age)"
   ]
  },
  {
   "cell_type": "code",
   "execution_count": 18,
   "id": "e09ce848",
   "metadata": {},
   "outputs": [],
   "source": [
    "##instance method\n",
    "##functionality (eg: walking / barking / running of dog)\n",
    "\n",
    "class Dog:\n",
    "    def __init__(self,name,age):\n",
    "        self.name=name,\n",
    "        self.age=age\n",
    "    \n",
    "    def bark(self):\n",
    "        print(f\"{self.name} says wooofffff!!\")"
   ]
  },
  {
   "cell_type": "code",
   "execution_count": 22,
   "id": "249665e4",
   "metadata": {},
   "outputs": [
    {
     "name": "stdout",
     "output_type": "stream",
     "text": [
      "('Buggy',) says wooofffff!!\n",
      "('Lucy',) says wooofffff!!\n"
     ]
    }
   ],
   "source": [
    "dog1=Dog(\"Buggy\",3)\n",
    "dog1.bark()\n",
    "dog2=Dog(\"Lucy\",2)\n",
    "dog2.bark()\n"
   ]
  },
  {
   "cell_type": "code",
   "execution_count": 29,
   "id": "74c26464",
   "metadata": {},
   "outputs": [
    {
     "name": "stdout",
     "output_type": "stream",
     "text": [
      "5000\n"
     ]
    }
   ],
   "source": [
    "### Modelling a bank account\n",
    "## constructor is __init__\n",
    "\n",
    "##define a class for bank acc\n",
    "\n",
    "class BankAccount:\n",
    "    def  __init__(self,owner,balance=0):            #for owner , balance\n",
    "        self.owner=owner\n",
    "        self.balance=balance\n",
    "    \n",
    "    def deposit(self,amount):                       #for deposit\n",
    "        self.balance+=amount\n",
    "        print(f\"{amount} is deposited . New balance is {self.balance}\")\n",
    "\n",
    "    def withdraw(self,amount):                      #for withdraw\n",
    "        if amount > self.balance:\n",
    "            print(\"Insufficient funds\")\n",
    "        else:\n",
    "            self.balance-=amount\n",
    "            print(f\"{amount} is withdrawen . New balance is {self.balance}\")\n",
    "        \n",
    "    def get_balance(self):\n",
    "        return self.balance\n",
    "\n",
    "\n",
    "##Create an account\n",
    "\n",
    "\n",
    "account=BankAccount(\"Darshan\",5000)\n",
    "print(account.balance)"
   ]
  },
  {
   "cell_type": "code",
   "execution_count": 30,
   "id": "6d7b0f3e",
   "metadata": {},
   "outputs": [
    {
     "name": "stdout",
     "output_type": "stream",
     "text": [
      "10000 is deposited . New balance is 15000\n"
     ]
    }
   ],
   "source": [
    "#call instance method\n",
    "\n",
    "account.deposit(10000)"
   ]
  },
  {
   "cell_type": "code",
   "execution_count": 31,
   "id": "58e03599",
   "metadata": {},
   "outputs": [
    {
     "name": "stdout",
     "output_type": "stream",
     "text": [
      "2020 is withdrawen . New balance is 12980\n"
     ]
    }
   ],
   "source": [
    "account.withdraw(2020)"
   ]
  },
  {
   "cell_type": "code",
   "execution_count": 32,
   "id": "3d22ec4e",
   "metadata": {},
   "outputs": [
    {
     "name": "stdout",
     "output_type": "stream",
     "text": [
      "12980\n"
     ]
    }
   ],
   "source": [
    "print(account.get_balance())"
   ]
  }
 ],
 "metadata": {
  "kernelspec": {
   "display_name": "Python 3",
   "language": "python",
   "name": "python3"
  },
  "language_info": {
   "codemirror_mode": {
    "name": "ipython",
    "version": 3
   },
   "file_extension": ".py",
   "mimetype": "text/x-python",
   "name": "python",
   "nbconvert_exporter": "python",
   "pygments_lexer": "ipython3",
   "version": "3.12.0"
  }
 },
 "nbformat": 4,
 "nbformat_minor": 5
}
