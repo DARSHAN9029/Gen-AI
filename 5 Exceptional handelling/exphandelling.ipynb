{
 "cells": [
  {
   "cell_type": "markdown",
   "id": "d73cd72d",
   "metadata": {},
   "source": [
    "# what are exceptions?\n",
    "\n",
    "Exceptions are events that disrupts the norma flow of the program . They occurr when an error is encountered during progrm execution . Common exception include:\n",
    "\n",
    "1. ZeoDivusionError\n",
    "2. FileNotFoundError\n",
    "3. ValueError\n",
    "4. TypeError.\n"
   ]
  },
  {
   "cell_type": "code",
   "execution_count": 4,
   "id": "bb86e19d",
   "metadata": {},
   "outputs": [
    {
     "name": "stdout",
     "output_type": "stream",
     "text": [
      "The variable b has not been assigned\n"
     ]
    }
   ],
   "source": [
    "## Exception  try , except block\n",
    "\n",
    "try:\n",
    "    a=b\n",
    "except NameError:\n",
    "    print(\"The variable b has not been assigned\")"
   ]
  },
  {
   "cell_type": "code",
   "execution_count": 6,
   "id": "70b6c348",
   "metadata": {},
   "outputs": [
    {
     "name": "stdout",
     "output_type": "stream",
     "text": [
      "name 'b' is not defined\n"
     ]
    }
   ],
   "source": [
    "try:\n",
    "    a=b\n",
    "except NameError as ex:\n",
    "    print(ex)"
   ]
  },
  {
   "cell_type": "code",
   "execution_count": 7,
   "id": "dca9c53e",
   "metadata": {},
   "outputs": [
    {
     "ename": "ZeroDivisionError",
     "evalue": "division by zero",
     "output_type": "error",
     "traceback": [
      "\u001b[1;31m---------------------------------------------------------------------------\u001b[0m",
      "\u001b[1;31mZeroDivisionError\u001b[0m                         Traceback (most recent call last)",
      "Cell \u001b[1;32mIn[7], line 1\u001b[0m\n\u001b[1;32m----> 1\u001b[0m res\u001b[38;5;241m=\u001b[39m\u001b[38;5;241;43m1\u001b[39;49m\u001b[38;5;241;43m/\u001b[39;49m\u001b[38;5;241;43m0\u001b[39;49m\n",
      "\u001b[1;31mZeroDivisionError\u001b[0m: division by zero"
     ]
    }
   ],
   "source": [
    "res=1/0"
   ]
  },
  {
   "cell_type": "code",
   "execution_count": 11,
   "id": "65d410b3",
   "metadata": {},
   "outputs": [
    {
     "name": "stdout",
     "output_type": "stream",
     "text": [
      "division by zero\n",
      "Please enter denominator greater than 0\n"
     ]
    }
   ],
   "source": [
    "try:\n",
    "    res=1/0\n",
    "    print(res)\n",
    "except ZeroDivisionError as ex:\n",
    "    print(ex)\n",
    "    print(\"Please enter denominator greater than 0\")"
   ]
  },
  {
   "cell_type": "code",
   "execution_count": 12,
   "id": "3ab30012",
   "metadata": {},
   "outputs": [
    {
     "name": "stdout",
     "output_type": "stream",
     "text": [
      "0.1\n"
     ]
    }
   ],
   "source": [
    "try:\n",
    "    res=1/10\n",
    "    print(res)\n",
    "except ZeroDivisionError as ex:\n",
    "    print(ex)\n",
    "    print(\"Please enter denominator greater than 0\")"
   ]
  },
  {
   "cell_type": "code",
   "execution_count": 15,
   "id": "33195ac4",
   "metadata": {},
   "outputs": [
    {
     "name": "stdout",
     "output_type": "stream",
     "text": [
      "enter the denominator greater than 0\n"
     ]
    }
   ],
   "source": [
    "try:\n",
    "    num=int(input(\"Enter the number\"))\n",
    "    res=10/num\n",
    "    print(res)\n",
    "\n",
    "    \n",
    "except ValueError:\n",
    "    print(\"this is not a valid number\")\n",
    "except ZeroDivisionError:\n",
    "    print(\"enter the denominator greater than 0\")"
   ]
  },
  {
   "cell_type": "code",
   "execution_count": null,
   "id": "d3659d02",
   "metadata": {},
   "outputs": [
    {
     "name": "stdout",
     "output_type": "stream",
     "text": [
      "1.0\n"
     ]
    }
   ],
   "source": [
    "try:\n",
    "    num=int(input(\"Enter the number\"))\n",
    "    res=10/num\n",
    "    print(res)\n",
    "\n",
    "    \n",
    "except ValueError:\n",
    "    print(\"this is not a valid number\")\n",
    "except ZeroDivisionError:\n",
    "    print(\"enter the denominator greater than 0\")\n",
    "except Exception as ex:         #to manage all the other errors\n",
    "    print(ex)"
   ]
  },
  {
   "cell_type": "code",
   "execution_count": 20,
   "id": "4494066a",
   "metadata": {},
   "outputs": [
    {
     "name": "stdout",
     "output_type": "stream",
     "text": [
      "The result is 1.0\n"
     ]
    }
   ],
   "source": [
    "#try-except-else block\n",
    "\n",
    "try:\n",
    "    num=int(input(\"Enter the number\"))\n",
    "    res=10/num\n",
    "\n",
    "except ValueError:\n",
    "    print(\"this is not a valid number\")\n",
    "except ZeroDivisionError:\n",
    "    print(\"enter the denominator greater than 0\")\n",
    "except Exception as ex:         #to manage all the other errors\n",
    "    print(ex)\n",
    "else:\n",
    "    print(f\"The result is {res}\")"
   ]
  },
  {
   "cell_type": "code",
   "execution_count": 22,
   "id": "5641edcb",
   "metadata": {},
   "outputs": [
    {
     "name": "stdout",
     "output_type": "stream",
     "text": [
      "enter the denominator greater than 0\n",
      "Execution completed\n"
     ]
    }
   ],
   "source": [
    "#try-except-else-finally block\n",
    "\n",
    "try:\n",
    "    num=int(input(\"Enter the number\"))\n",
    "    res=10/num\n",
    "\n",
    "except ValueError:\n",
    "    print(\"this is not a valid number\")\n",
    "except ZeroDivisionError:\n",
    "    print(\"enter the denominator greater than 0\")\n",
    "except Exception as ex:         #to manage all the other errors\n",
    "    print(ex)\n",
    "else:\n",
    "    print(f\"The result is {res}\")\n",
    "finally:\n",
    "    print(\"Execution completed\")"
   ]
  },
  {
   "cell_type": "code",
   "execution_count": null,
   "id": "29cb975a",
   "metadata": {},
   "outputs": [],
   "source": []
  }
 ],
 "metadata": {
  "kernelspec": {
   "display_name": "Python 3",
   "language": "python",
   "name": "python3"
  },
  "language_info": {
   "codemirror_mode": {
    "name": "ipython",
    "version": 3
   },
   "file_extension": ".py",
   "mimetype": "text/x-python",
   "name": "python",
   "nbconvert_exporter": "python",
   "pygments_lexer": "ipython3",
   "version": "3.12.0"
  }
 },
 "nbformat": 4,
 "nbformat_minor": 5
}
