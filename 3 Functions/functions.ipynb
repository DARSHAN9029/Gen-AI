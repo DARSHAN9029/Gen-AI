{
 "cells": [
  {
   "cell_type": "markdown",
   "id": "f8965cfa",
   "metadata": {},
   "source": [
    "# Functions in python\n",
    "Function is a block of code that performs a specific task . Helps in organizing code , reusing code and improving readability"
   ]
  },
  {
   "cell_type": "code",
   "execution_count": 1,
   "id": "a6471b90",
   "metadata": {},
   "outputs": [],
   "source": [
    "##syntax\n",
    "\n",
    "def function(parameters):\n",
    "    \"\"\"Docstring\"\"\"\n",
    "    #function body\n",
    "    return expression"
   ]
  },
  {
   "cell_type": "code",
   "execution_count": null,
   "id": "0daa04cc",
   "metadata": {},
   "outputs": [],
   "source": [
    "def even_odd(num):\n",
    "    \"\"\"This functions finda even or odd\"\"\"\n",
    "    if num%2==0:\n",
    "        print(\"Number is even\")\n",
    "    else:\n",
    "        print(\"Number is odd\")"
   ]
  },
  {
   "cell_type": "code",
   "execution_count": 3,
   "id": "d211c189",
   "metadata": {},
   "outputs": [
    {
     "name": "stdout",
     "output_type": "stream",
     "text": [
      "Number is even\n"
     ]
    }
   ],
   "source": [
    "#calling the function\n",
    "even_odd(24)"
   ]
  },
  {
   "cell_type": "code",
   "execution_count": 4,
   "id": "723f097c",
   "metadata": {},
   "outputs": [],
   "source": [
    "#function with multiple parameters\n",
    "\n",
    "def add(a,b):\n",
    "    \"\"\"Add function\"\"\"\n",
    "    return a+b"
   ]
  },
  {
   "cell_type": "code",
   "execution_count": 5,
   "id": "8bf9b016",
   "metadata": {},
   "outputs": [
    {
     "data": {
      "text/plain": [
       "15"
      ]
     },
     "execution_count": 5,
     "metadata": {},
     "output_type": "execute_result"
    }
   ],
   "source": [
    "add(7,8)"
   ]
  },
  {
   "cell_type": "code",
   "execution_count": null,
   "id": "ae56957d",
   "metadata": {},
   "outputs": [
    {
     "name": "stdout",
     "output_type": "stream",
     "text": [
      "Hello Darshan Welcome to The Paradise\n"
     ]
    }
   ],
   "source": [
    "#Default parameters\n",
    "\n",
    "def greet(name):\n",
    "    print(f\"Hello {name} Welcome to The\")\n",
    "\n",
    "greet('Darshan')"
   ]
  },
  {
   "cell_type": "code",
   "execution_count": 15,
   "id": "9f4e596f",
   "metadata": {},
   "outputs": [
    {
     "name": "stdout",
     "output_type": "stream",
     "text": [
      "Hello Guest Welcome to The Paradise\n"
     ]
    }
   ],
   "source": [
    "#Default\n",
    "\n",
    "def greet(name=\"Guest\"):\n",
    "    print(f\"Hello {name} Welcome to The Paradise\")\n",
    "\n",
    "greet()"
   ]
  },
  {
   "cell_type": "code",
   "execution_count": 17,
   "id": "e9d413fb",
   "metadata": {},
   "outputs": [
    {
     "name": "stdout",
     "output_type": "stream",
     "text": [
      "1\n",
      "2\n",
      "3\n",
      "4\n",
      "5\n",
      "6\n",
      "7\n",
      "8\n",
      "9\n",
      "10\n",
      "Darshan\n"
     ]
    }
   ],
   "source": [
    "### Variable length Arguments\n",
    "#Position and key word arguments\n",
    "\n",
    "def print_num(*darshan):\n",
    "    for number in darshan:\n",
    "        print(number)\n",
    "\n",
    "print_num(1,2,3,4,5,6,7,8,9,10,\"Darshan\")"
   ]
  },
  {
   "cell_type": "code",
   "execution_count": 18,
   "id": "9fbaa4ed",
   "metadata": {},
   "outputs": [
    {
     "name": "stdout",
     "output_type": "stream",
     "text": [
      "1\n",
      "2\n",
      "3\n",
      "4\n",
      "5\n",
      "6\n",
      "7\n",
      "8\n",
      "9\n",
      "10\n",
      "Darshan\n"
     ]
    }
   ],
   "source": [
    "#Positional argumments\n",
    "def print_num(*args):\n",
    "    for number in args:\n",
    "        print(number)\n",
    "\n",
    "print_num(1,2,3,4,5,6,7,8,9,10,\"Darshan\")\n"
   ]
  },
  {
   "cell_type": "code",
   "execution_count": 23,
   "id": "d90b1f97",
   "metadata": {},
   "outputs": [],
   "source": [
    "#Key word arguments(all the keys / parameters will be in the form of key value pairs)\n",
    "\n",
    "def print_detail(**kwargs):\n",
    "    for key,value in kwargs.items():\n",
    "        print(f\"{key}:{value}\")"
   ]
  },
  {
   "cell_type": "code",
   "execution_count": 24,
   "id": "aac70ec4",
   "metadata": {},
   "outputs": [
    {
     "name": "stdout",
     "output_type": "stream",
     "text": [
      "name:Darshan\n",
      "age:21\n",
      "country:India\n"
     ]
    }
   ],
   "source": [
    "print_detail(name=\"Darshan\",age=\"21\",country=\"India\")"
   ]
  },
  {
   "cell_type": "code",
   "execution_count": 27,
   "id": "4659b109",
   "metadata": {},
   "outputs": [],
   "source": [
    "def print_detail(*args,**kwargs):\n",
    "    for val in args:\n",
    "        print(f\"Positional arguments : {val}\")\n",
    "\n",
    "    for key,value in kwargs.items():\n",
    "        print(f\"{key}:{value}\")"
   ]
  },
  {
   "cell_type": "code",
   "execution_count": 28,
   "id": "afac8778",
   "metadata": {},
   "outputs": [
    {
     "name": "stdout",
     "output_type": "stream",
     "text": [
      "Positional arguments : 1\n",
      "Positional arguments : 2\n",
      "Positional arguments : 3\n",
      "Positional arguments : 4\n",
      "Positional arguments : 5\n",
      "name:Darshan\n",
      "age:21\n",
      "country:India\n"
     ]
    }
   ],
   "source": [
    "print_detail(1,2,3,4,5,name=\"Darshan\",age=\"21\",country=\"India\")"
   ]
  },
  {
   "cell_type": "code",
   "execution_count": 29,
   "id": "37e87712",
   "metadata": {},
   "outputs": [],
   "source": [
    "#Example\n",
    "#1  Temperature conversion\n",
    "\n",
    "def temp_converter(temp,units):\n",
    "    \"\"\"\"This function converts temperature between celsius and farhenite\"\"\"\n",
    "    if units=='C':\n",
    "        return temp*9/5 +32 ##Celsius to Farhenite\n",
    "    elif units=='F':\n",
    "        return (temp-32)*5/9    ##Farhenite to Clesius\n",
    "    else:\n",
    "        return None"
   ]
  },
  {
   "cell_type": "code",
   "execution_count": 32,
   "id": "4e105d6f",
   "metadata": {},
   "outputs": [
    {
     "name": "stdout",
     "output_type": "stream",
     "text": [
      "77.0\n",
      "25.0\n"
     ]
    }
   ],
   "source": [
    "print(temp_converter(25,'C'))\n",
    "print(temp_converter(77,'F'))"
   ]
  },
  {
   "cell_type": "code",
   "execution_count": 33,
   "id": "d74f367f",
   "metadata": {},
   "outputs": [],
   "source": [
    "#2 Passwords strength cjecker\n",
    "\n",
    "def is_strong_pass(password):\n",
    "    \"\"\"This function checks the strength of passwords\"\"\"\n",
    "    if len(password)<8:\n",
    "        return False\n",
    "    if not any(char.isdigit() for char in password):\n",
    "        return False\n",
    "    if not any(char.islower() for char in password):\n",
    "        return False\n",
    "    if not any(char.isupper() for char in password):\n",
    "        return False\n",
    "    if not any(char in '!@#$%^&*()_' for char in password):\n",
    "        return False\n",
    "    return True"
   ]
  },
  {
   "cell_type": "code",
   "execution_count": 34,
   "id": "5957dc6b",
   "metadata": {},
   "outputs": [
    {
     "data": {
      "text/plain": [
       "True"
      ]
     },
     "execution_count": 34,
     "metadata": {},
     "output_type": "execute_result"
    }
   ],
   "source": [
    "is_strong_pass(\"Darshan@134dvc!\")"
   ]
  },
  {
   "cell_type": "code",
   "execution_count": 35,
   "id": "9656e8c1",
   "metadata": {},
   "outputs": [
    {
     "data": {
      "text/plain": [
       "False"
      ]
     },
     "execution_count": 35,
     "metadata": {},
     "output_type": "execute_result"
    }
   ],
   "source": [
    "is_strong_pass(\"Qddcwyew\")"
   ]
  },
  {
   "cell_type": "code",
   "execution_count": 41,
   "id": "a14f3bb1",
   "metadata": {},
   "outputs": [
    {
     "data": {
      "text/plain": [
       "13.100000000000001"
      ]
     },
     "execution_count": 41,
     "metadata": {},
     "output_type": "execute_result"
    }
   ],
   "source": [
    "##3 Calculate the total cost of items in a shopping cart\n",
    "\n",
    "\n",
    "def total_cost_of_cart(cart):\n",
    "    total_cost=0\n",
    "    for item in cart:\n",
    "        total_cost+=item['price']*item['quantity']\n",
    "    \n",
    "    return total_cost\n",
    "\n",
    "\n",
    "#example cart data\n",
    "cart=[\n",
    "    {'name':'Apple','price':0.5,'quantity':4},\n",
    "    {'name':'Banana','price':0.7,'quantity':9},\n",
    "    {'name':'Berries','price':0.8,'quantity':6}\n",
    "]\n",
    "\n",
    "\n",
    "#function calling\n",
    "total_cost_of_cart(cart)"
   ]
  },
  {
   "cell_type": "code",
   "execution_count": 44,
   "id": "c1f1c1c6",
   "metadata": {},
   "outputs": [
    {
     "name": "stdout",
     "output_type": "stream",
     "text": [
      "True\n",
      "False\n"
     ]
    }
   ],
   "source": [
    "#4 checking if the string is palindrome\n",
    "\n",
    "def check_palindrome(s):\n",
    "    s=s.lower().replace(\" \",\"\")\n",
    "    return s==s[::-1]\n",
    "\n",
    "print(check_palindrome(\"A man a plan a canal Panama\"))\n",
    "print(check_palindrome(\"holla\"))"
   ]
  },
  {
   "cell_type": "code",
   "execution_count": 45,
   "id": "cf4bf7ba",
   "metadata": {},
   "outputs": [],
   "source": [
    "#5 Factorial using recursion\n",
    "\n",
    "def factorial(n):\n",
    "    if n==0:\n",
    "        return 1\n",
    "    else:\n",
    "        return n*factorial(n-1)"
   ]
  },
  {
   "cell_type": "code",
   "execution_count": 46,
   "id": "9dc79668",
   "metadata": {},
   "outputs": [
    {
     "data": {
      "text/plain": [
       "120"
      ]
     },
     "execution_count": 46,
     "metadata": {},
     "output_type": "execute_result"
    }
   ],
   "source": [
    "factorial(5)"
   ]
  },
  {
   "cell_type": "code",
   "execution_count": 54,
   "id": "9866fd4b",
   "metadata": {},
   "outputs": [
    {
     "name": "stdout",
     "output_type": "stream",
     "text": [
      "{'hello': 1, 'how': 1, 'are': 1, 'you': 1, 'my': 1, 'name': 2, 'is': 2, 'darshan': 1, 'k': 1, 'jain': 1, 'what': 1, 'your': 1}\n"
     ]
    },
    {
     "name": "stderr",
     "output_type": "stream",
     "text": [
      "<>:9: SyntaxWarning: invalid escape sequence '\\:'\n",
      "<>:9: SyntaxWarning: invalid escape sequence '\\:'\n",
      "C:\\Users\\PINKY\\AppData\\Local\\Temp\\ipykernel_43972\\858500663.py:9: SyntaxWarning: invalid escape sequence '\\:'\n",
      "  word=word.lower().strip('!?/\\:;\"')\n"
     ]
    }
   ],
   "source": [
    "#6 to read the and count the freq of each word\n",
    "\n",
    "def count_words(file_path):\n",
    "    word_count={}\n",
    "    with open(file_path,'r') as file:\n",
    "        for line in file:\n",
    "            words=line.split()\n",
    "            for word in words:\n",
    "                word=word.lower().strip('!?/\\:;\"')\n",
    "                word_count[word]=word_count.get(word,0)+1\n",
    "\n",
    "    return word_count\n",
    "\n",
    "file_path='hello.txt'\n",
    "word_frequency=count_words(file_path)\n",
    "print(word_frequency)"
   ]
  },
  {
   "cell_type": "code",
   "execution_count": null,
   "id": "20c44726",
   "metadata": {},
   "outputs": [],
   "source": []
  }
 ],
 "metadata": {
  "kernelspec": {
   "display_name": "Python 3",
   "language": "python",
   "name": "python3"
  },
  "language_info": {
   "codemirror_mode": {
    "name": "ipython",
    "version": 3
   },
   "file_extension": ".py",
   "mimetype": "text/x-python",
   "name": "python",
   "nbconvert_exporter": "python",
   "pygments_lexer": "ipython3",
   "version": "3.12.0"
  }
 },
 "nbformat": 4,
 "nbformat_minor": 5
}
