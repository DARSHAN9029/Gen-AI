{
 "cells": [
  {
   "cell_type": "code",
   "execution_count": 3,
   "id": "f314b047",
   "metadata": {},
   "outputs": [
    {
     "name": "stdout",
     "output_type": "stream",
     "text": [
      "Hii , How are you?\n",
      "I am fine.\n"
     ]
    }
   ],
   "source": [
    "## Read the whole file\n",
    "\n",
    "with open('example.txt' , 'r') as file:\n",
    "    content=file.read()\n",
    "    print(content)"
   ]
  },
  {
   "cell_type": "code",
   "execution_count": null,
   "id": "66aa8a87",
   "metadata": {},
   "outputs": [
    {
     "name": "stdout",
     "output_type": "stream",
     "text": [
      "Hii , How are you?\n",
      "I am fine.\n"
     ]
    }
   ],
   "source": [
    "##reading line by line\n",
    "\n",
    "\n",
    "with open('example.txt' , 'r') as file:\n",
    "    for line in file:\n",
    "        print(line.strip())"
   ]
  },
  {
   "cell_type": "code",
   "execution_count": 9,
   "id": "9e874fca",
   "metadata": {},
   "outputs": [],
   "source": [
    "## Writing a file (overwritting)\n",
    "\n",
    "with open('example.txt' , 'w') as file:\n",
    "    file.write('Hello World!!\\n')\n",
    "    file.write('This is the new line !....overwritten sucessfully!')\n"
   ]
  },
  {
   "cell_type": "code",
   "execution_count": 15,
   "id": "bd64a0c0",
   "metadata": {},
   "outputs": [],
   "source": [
    "# Writing a file ( without overwriting)\n",
    "\n",
    "with open('example.txt' , 'a') as file:          #a=append\n",
    "    file.write(\"\\nAppend operation taking place\")\n"
   ]
  },
  {
   "cell_type": "code",
   "execution_count": 18,
   "id": "32c4e345",
   "metadata": {},
   "outputs": [],
   "source": [
    "# writing list of lines\n",
    "lines=['\\nFirst line \\n','Second line \\n' , 'Third line \\n']\n",
    "with open('example.txt', 'a') as file:\n",
    "    file.writelines(lines)"
   ]
  },
  {
   "cell_type": "code",
   "execution_count": 20,
   "id": "9b69380c",
   "metadata": {},
   "outputs": [],
   "source": [
    "## Binary files\n",
    "data = b'\\x00\\x01\\x02\\x03\\x04'\n",
    "with open('example.bin','wb') as file:\n",
    "    file.write(data)"
   ]
  },
  {
   "cell_type": "code",
   "execution_count": 21,
   "id": "5aa26e37",
   "metadata": {},
   "outputs": [
    {
     "name": "stdout",
     "output_type": "stream",
     "text": [
      "b'\\x00\\x01\\x02\\x03\\x04'\n"
     ]
    }
   ],
   "source": [
    "with open('example.bin' , 'rb') as file:\n",
    "    content = file.read()\n",
    "    print(content)"
   ]
  },
  {
   "cell_type": "code",
   "execution_count": 26,
   "id": "6a570dd9",
   "metadata": {},
   "outputs": [
    {
     "ename": "NameError",
     "evalue": "name 'source_file' is not defined",
     "output_type": "error",
     "traceback": [
      "\u001b[1;31m---------------------------------------------------------------------------\u001b[0m",
      "\u001b[1;31mNameError\u001b[0m                                 Traceback (most recent call last)",
      "Cell \u001b[1;32mIn[26], line 4\u001b[0m\n\u001b[0;32m      1\u001b[0m \u001b[38;5;66;03m## read the content from source file and write it to the destination file\u001b[39;00m\n\u001b[0;32m      3\u001b[0m \u001b[38;5;28;01mwith\u001b[39;00m \u001b[38;5;28mopen\u001b[39m(\u001b[38;5;124m'\u001b[39m\u001b[38;5;124mexample.txt\u001b[39m\u001b[38;5;124m'\u001b[39m , \u001b[38;5;124m'\u001b[39m\u001b[38;5;124mr\u001b[39m\u001b[38;5;124m'\u001b[39m) \u001b[38;5;28;01mas\u001b[39;00m file:\n\u001b[1;32m----> 4\u001b[0m     content\u001b[38;5;241m=\u001b[39m\u001b[43msource_file\u001b[49m\u001b[38;5;241m.\u001b[39mread()\n\u001b[0;32m      6\u001b[0m \u001b[38;5;28;01mwith\u001b[39;00m \u001b[38;5;28mopen\u001b[39m(\u001b[38;5;124m'\u001b[39m\u001b[38;5;124mdestination.txt\u001b[39m\u001b[38;5;124m'\u001b[39m ,\u001b[38;5;124m'\u001b[39m\u001b[38;5;124mw\u001b[39m\u001b[38;5;124m'\u001b[39m) \u001b[38;5;28;01mas\u001b[39;00m file:\n\u001b[0;32m      7\u001b[0m     destination_file\u001b[38;5;241m.\u001b[39mwrite(content)\n",
      "\u001b[1;31mNameError\u001b[0m: name 'source_file' is not defined"
     ]
    }
   ],
   "source": [
    "## read the content from source file and write it to the destination file\n",
    "\n",
    "with open('example.txt' , 'r') as file:\n",
    "    content=source_file.read()\n",
    "\n",
    "with open('destination.txt' ,'w') as file:\n",
    "    destination_file.write(content)"
   ]
  },
  {
   "cell_type": "code",
   "execution_count": null,
   "id": "85db4c76",
   "metadata": {},
   "outputs": [],
   "source": []
  }
 ],
 "metadata": {
  "kernelspec": {
   "display_name": "Python 3",
   "language": "python",
   "name": "python3"
  },
  "language_info": {
   "codemirror_mode": {
    "name": "ipython",
    "version": 3
   },
   "file_extension": ".py",
   "mimetype": "text/x-python",
   "name": "python",
   "nbconvert_exporter": "python",
   "pygments_lexer": "ipython3",
   "version": "3.12.0"
  }
 },
 "nbformat": 4,
 "nbformat_minor": 5
}
